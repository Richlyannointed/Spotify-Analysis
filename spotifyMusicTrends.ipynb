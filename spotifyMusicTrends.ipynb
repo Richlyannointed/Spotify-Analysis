{
 "cells": [
  {
   "cell_type": "markdown",
   "id": "19c95bb2",
   "metadata": {},
   "source": [
    "# Objective:\n",
    "### I want to produce a time series of all my '202X_liked_songs' playlists from 2018 to 2023 to measure trends in spotify analytics like: `valance`, `danceability`, `happiness`, etc. in my music preferences.\n"
   ]
  },
  {
   "cell_type": "code",
   "execution_count": 11,
   "id": "e6c4568c",
   "metadata": {
    "tags": []
   },
   "outputs": [],
   "source": [
    "import pandas as pd\n",
    "import numpy as np\n",
    "import json\n",
    "import os"
   ]
  },
  {
   "cell_type": "markdown",
   "id": "561f2e6a",
   "metadata": {},
   "source": [
    "### `fun main(effort) {`\n",
    "    #let's begin\n",
    "`}`"
   ]
  },
  {
   "cell_type": "markdown",
   "id": "73313155",
   "metadata": {},
   "source": [
    "## Helper Functions"
   ]
  },
  {
   "cell_type": "code",
   "execution_count": 12,
   "id": "0524743a",
   "metadata": {
    "tags": []
   },
   "outputs": [],
   "source": [
    "def appendPlaylsit(playlist: pd.Series, playlistName: str, master: pd.DataFrame) -> pd.DataFrame:\n",
    "    '''\n",
    "    Appends the song and playlist info of a playlist to the master dataframe\n",
    "    '''\n",
    "    staging = []\n",
    "    for track in playlist:\n",
    "        trackDetails = track['track']\n",
    "        newRow = {\n",
    "            'playlist': playlistName, \n",
    "            'trackName': trackDetails['trackName'], \n",
    "            'artistName': trackDetails['artistName'],\n",
    "            'albumName': trackDetails['albumName'], \n",
    "            'trackUri': trackDetails['trackUri'],\n",
    "            }\n",
    "        staging.append(newRow)\n",
    "    df_staging = pd.DataFrame(staging, columns=master.columns)\n",
    "    return pd.concat([master, df_staging], ignore_index=True)\n",
    "\n",
    "\n",
    "def appendCurrentPlaylist(playlist: dict, playlistName: str, master: pd.DataFrame) -> pd.DataFrame:\n",
    "    '''\n",
    "    Appends the song and playlist info of the current year's \"Liked Songs\" playlist\n",
    "    to the master dataframe.\n",
    "    '''\n",
    "    staging = []\n",
    "    for track in playlist['tracks']:\n",
    "        newRow = {\n",
    "            'playlist': playlistName,\n",
    "            'trackName': track['track'],\n",
    "            'artistName': track['artist'],\n",
    "            'albumName': track['album'], \n",
    "            'trackUri': track['uri'],\n",
    "            }\n",
    "        staging.append(newRow)\n",
    "    df_staging = pd.DataFrame(staging, columns=master.columns)\n",
    "    return pd.concat([master, df_staging], ignore_index=True)\n",
    "\n",
    "\n",
    "def getCurrentPlaylist(path: str):\n",
    "    '''\n",
    "    Loads the current \"Liked Songs\" playlist as a dictionary\n",
    "    '''\n",
    "    with open(path, encoding='utf-8') as json_data:\n",
    "        data = json.load(json_data)\n",
    "    return data\n",
    "    \n",
    "\n",
    "def getStreamHistory(extendedDataPath: str, historyFilePath: str) -> pd.DataFrame:\n",
    "    return (pd.read_json(os.path.join(extendedDataPath, historyFilePath))\n",
    "            .drop(columns=[\n",
    "                'username',\n",
    "                'platform',\n",
    "                'conn_country',\n",
    "                'ip_addr_decrypted',\n",
    "                'user_agent_decrypted',\n",
    "                'master_metadata_album_album_name',\n",
    "                'episode_name','episode_show_name',\n",
    "                'spotify_episode_uri',\n",
    "                'incognito_mode',\n",
    "                ],\n",
    "                  )\n",
    "            .rename(columns={\n",
    "                'ts': 'timeStamp',\n",
    "                'ms_played': 'msPlayed',\n",
    "                'master_metadata_track_name': 'trackName',\n",
    "                'master_metadata_album_artist_name': 'artistName',\n",
    "                'spotify_track_uri': 'trackUri',\n",
    "                'reason_start': 'reasonStart',\n",
    "                'reason_end': 'reasonEnd',\n",
    "                'offline_timestamp': 'offlineTimestamp'\n",
    "                },\n",
    "                    )\n",
    "            )\n",
    "    \n",
    "\n",
    "def getMasterStreamData(extendedDataPath: str) -> pd.DataFrame:\n",
    "    staging = []\n",
    "    with os.scandir(extendedDataPath) as entries:\n",
    "        for entry in entries:\n",
    "            if not 'Audio' in entry.name or entry.is_dir():\n",
    "                continue\n",
    "            staging.append(getStreamHistory(extendedDataPath, entry.name))\n",
    "    df = pd.concat(staging, ignore_index=True)\n",
    "    df['timeStamp'] = pd.to_datetime(df['timeStamp'])\n",
    "    return df\n"
   ]
  },
  {
   "cell_type": "markdown",
   "id": "13acc885",
   "metadata": {},
   "source": [
    "## Filepaths"
   ]
  },
  {
   "cell_type": "code",
   "execution_count": 13,
   "id": "6b3cce09",
   "metadata": {
    "scrolled": true,
    "tags": []
   },
   "outputs": [],
   "source": [
    "shortDataPath = os.path.join(os.getcwd(), 'short_data')\n",
    "extendedDataPath = os.path.join(os.getcwd(), 'extended_data')\n",
    "        \n",
    "historicalPlaylistDataPath = os.path.join(shortDataPath, 'Playlist1.json')\n",
    "currentPlaylistDataPath = os.path.join(shortDataPath, 'YourLibrary.json')\n",
    "extendedPlaylistHistory = os.path.join(extendedDataPath, 'Streaming_History_Audio_2018-2020_0.json')\n",
    "\n",
    "historicalPlaylistData = pd.read_json(historicalPlaylistDataPath)\n",
    "currentPlaylistData = getCurrentPlaylist(currentPlaylistDataPath)"
   ]
  },
  {
   "cell_type": "markdown",
   "id": "30b6331d",
   "metadata": {},
   "source": [
    "## Constructing Master Stream History DataFrame: `streamHistory`"
   ]
  },
  {
   "cell_type": "code",
   "execution_count": 14,
   "id": "b2a72c57",
   "metadata": {
    "tags": []
   },
   "outputs": [],
   "source": [
    "streamHistory = getMasterStreamData(extendedDataPath)"
   ]
  },
  {
   "cell_type": "markdown",
   "id": "ffb668e0",
   "metadata": {},
   "source": [
    "## Constructing and appending to Master Playlist DataFrame: `likedSongs`"
   ]
  },
  {
   "cell_type": "markdown",
   "id": "45a164af",
   "metadata": {},
   "source": [
    "### Extracting historical playlists"
   ]
  },
  {
   "cell_type": "code",
   "execution_count": 15,
   "id": "7d42659e-9d36-4060-83f3-6357b8107a73",
   "metadata": {
    "tags": []
   },
   "outputs": [],
   "source": [
    "likedSongs_2022 = pd.DataFrame(historicalPlaylistData.iloc[0,0])['items']\n",
    "likedSongs_2021 = pd.DataFrame(historicalPlaylistData.iloc[7,0])['items']\n",
    "likedSongs_2020 = pd.DataFrame(historicalPlaylistData.iloc[9,0])['items']\n",
    "likedSongs_2019 = pd.DataFrame(historicalPlaylistData.iloc[10,0])['items']"
   ]
  },
  {
   "cell_type": "markdown",
   "id": "43c3b3aa-7990-4282-b4a0-0212d4a161ee",
   "metadata": {},
   "source": [
    "### Merging 202X playlists to Master"
   ]
  },
  {
   "cell_type": "code",
   "execution_count": 16,
   "id": "19a02fb3",
   "metadata": {
    "tags": []
   },
   "outputs": [],
   "source": [
    "likedSongs = pd.DataFrame({\n",
    "    'playlist': [],\n",
    "    'trackName': [],\n",
    "    'artistName': [],\n",
    "    'albumName': [],\n",
    "    'trackUri': [],\n",
    "    })\n",
    "likedSongs = appendPlaylsit(likedSongs_2019, 'likedSongs_2019', likedSongs)\n",
    "likedSongs = appendPlaylsit(likedSongs_2020, 'likedSongs_2020', likedSongs)\n",
    "likedSongs = appendPlaylsit(likedSongs_2021, 'likedSongs_2021', likedSongs)\n",
    "likedSongs = appendPlaylsit(likedSongs_2022, 'likedSongs_2022', likedSongs)\n",
    "likedSongs = appendCurrentPlaylist(currentPlaylistData, 'likedSongs_2023', likedSongs)"
   ]
  },
  {
   "cell_type": "markdown",
   "id": "5381e6b5",
   "metadata": {},
   "source": [
    "## Two DataFrames: `likedSongs` and `streamHistory`"
   ]
  },
  {
   "cell_type": "code",
   "execution_count": 17,
   "id": "8862d862",
   "metadata": {
    "tags": []
   },
   "outputs": [
    {
     "data": {
      "text/html": [
       "<div>\n",
       "<style scoped>\n",
       "    .dataframe tbody tr th:only-of-type {\n",
       "        vertical-align: middle;\n",
       "    }\n",
       "\n",
       "    .dataframe tbody tr th {\n",
       "        vertical-align: top;\n",
       "    }\n",
       "\n",
       "    .dataframe thead th {\n",
       "        text-align: right;\n",
       "    }\n",
       "</style>\n",
       "<table border=\"1\" class=\"dataframe\">\n",
       "  <thead>\n",
       "    <tr style=\"text-align: right;\">\n",
       "      <th></th>\n",
       "      <th>playlist</th>\n",
       "      <th>trackName</th>\n",
       "      <th>artistName</th>\n",
       "      <th>albumName</th>\n",
       "      <th>trackUri</th>\n",
       "    </tr>\n",
       "  </thead>\n",
       "  <tbody>\n",
       "    <tr>\n",
       "      <th>157</th>\n",
       "      <td>likedSongs_2022</td>\n",
       "      <td>Memories</td>\n",
       "      <td>Conan Gray</td>\n",
       "      <td>Memories</td>\n",
       "      <td>spotify:track:7AYP21Q4qnxw2WxETEvSRb</td>\n",
       "    </tr>\n",
       "    <tr>\n",
       "      <th>236</th>\n",
       "      <td>likedSongs_2022</td>\n",
       "      <td>Baby Steps</td>\n",
       "      <td>Melina KB</td>\n",
       "      <td>Baby Steps</td>\n",
       "      <td>spotify:track:1e9vPT2ZfWuSAdoPeiMijP</td>\n",
       "    </tr>\n",
       "    <tr>\n",
       "      <th>285</th>\n",
       "      <td>likedSongs_2023</td>\n",
       "      <td>Unlucky Lady</td>\n",
       "      <td>TROY</td>\n",
       "      <td>Unlucky Lady</td>\n",
       "      <td>spotify:track:6pKHJofmJbo9vEi0DR8cWp</td>\n",
       "    </tr>\n",
       "  </tbody>\n",
       "</table>\n",
       "</div>"
      ],
      "text/plain": [
       "            playlist     trackName  artistName     albumName   \n",
       "157  likedSongs_2022      Memories  Conan Gray      Memories  \\\n",
       "236  likedSongs_2022    Baby Steps   Melina KB    Baby Steps   \n",
       "285  likedSongs_2023  Unlucky Lady        TROY  Unlucky Lady   \n",
       "\n",
       "                                 trackUri  \n",
       "157  spotify:track:7AYP21Q4qnxw2WxETEvSRb  \n",
       "236  spotify:track:1e9vPT2ZfWuSAdoPeiMijP  \n",
       "285  spotify:track:6pKHJofmJbo9vEi0DR8cWp  "
      ]
     },
     "execution_count": 17,
     "metadata": {},
     "output_type": "execute_result"
    }
   ],
   "source": [
    "likedSongs.sample(3)"
   ]
  },
  {
   "cell_type": "code",
   "execution_count": 18,
   "id": "f7f15bc8-a33d-4ca9-b3f8-6c8a6d90c6c4",
   "metadata": {
    "tags": []
   },
   "outputs": [
    {
     "data": {
      "text/html": [
       "<div>\n",
       "<style scoped>\n",
       "    .dataframe tbody tr th:only-of-type {\n",
       "        vertical-align: middle;\n",
       "    }\n",
       "\n",
       "    .dataframe tbody tr th {\n",
       "        vertical-align: top;\n",
       "    }\n",
       "\n",
       "    .dataframe thead th {\n",
       "        text-align: right;\n",
       "    }\n",
       "</style>\n",
       "<table border=\"1\" class=\"dataframe\">\n",
       "  <thead>\n",
       "    <tr style=\"text-align: right;\">\n",
       "      <th></th>\n",
       "      <th>timeStamp</th>\n",
       "      <th>msPlayed</th>\n",
       "      <th>trackName</th>\n",
       "      <th>artistName</th>\n",
       "      <th>trackUri</th>\n",
       "      <th>reasonStart</th>\n",
       "      <th>reasonEnd</th>\n",
       "      <th>shuffle</th>\n",
       "      <th>skipped</th>\n",
       "      <th>offline</th>\n",
       "      <th>offlineTimestamp</th>\n",
       "    </tr>\n",
       "  </thead>\n",
       "  <tbody>\n",
       "    <tr>\n",
       "      <th>16649</th>\n",
       "      <td>2020-12-04 16:06:22+00:00</td>\n",
       "      <td>201271</td>\n",
       "      <td>Enlightenment</td>\n",
       "      <td>Matt Dahan</td>\n",
       "      <td>spotify:track:19Uumcsl5GzKSXhKOtTyZi</td>\n",
       "      <td>trackdone</td>\n",
       "      <td>trackdone</td>\n",
       "      <td>False</td>\n",
       "      <td>NaN</td>\n",
       "      <td>False</td>\n",
       "      <td>1607097779179</td>\n",
       "    </tr>\n",
       "    <tr>\n",
       "      <th>52111</th>\n",
       "      <td>2021-12-23 13:28:25+00:00</td>\n",
       "      <td>199226</td>\n",
       "      <td>Babooshka - 2018 Remaster</td>\n",
       "      <td>Kate Bush</td>\n",
       "      <td>spotify:track:6VpNGCU2ig4NQmsLfALdJU</td>\n",
       "      <td>trackdone</td>\n",
       "      <td>trackdone</td>\n",
       "      <td>False</td>\n",
       "      <td>NaN</td>\n",
       "      <td>False</td>\n",
       "      <td>1640265905060</td>\n",
       "    </tr>\n",
       "    <tr>\n",
       "      <th>67915</th>\n",
       "      <td>2022-07-28 08:11:52+00:00</td>\n",
       "      <td>450320</td>\n",
       "      <td>Xola (feat. Nobuhle, Ze2 &amp; Young Stunna)</td>\n",
       "      <td>Kabza De Small</td>\n",
       "      <td>spotify:track:5uWDenxq03AYLOq83WzLNo</td>\n",
       "      <td>trackdone</td>\n",
       "      <td>trackdone</td>\n",
       "      <td>True</td>\n",
       "      <td>NaN</td>\n",
       "      <td>False</td>\n",
       "      <td>1658995460950</td>\n",
       "    </tr>\n",
       "  </tbody>\n",
       "</table>\n",
       "</div>"
      ],
      "text/plain": [
       "                      timeStamp  msPlayed   \n",
       "16649 2020-12-04 16:06:22+00:00    201271  \\\n",
       "52111 2021-12-23 13:28:25+00:00    199226   \n",
       "67915 2022-07-28 08:11:52+00:00    450320   \n",
       "\n",
       "                                      trackName      artistName   \n",
       "16649                             Enlightenment      Matt Dahan  \\\n",
       "52111                 Babooshka - 2018 Remaster       Kate Bush   \n",
       "67915  Xola (feat. Nobuhle, Ze2 & Young Stunna)  Kabza De Small   \n",
       "\n",
       "                                   trackUri reasonStart  reasonEnd  shuffle   \n",
       "16649  spotify:track:19Uumcsl5GzKSXhKOtTyZi   trackdone  trackdone    False  \\\n",
       "52111  spotify:track:6VpNGCU2ig4NQmsLfALdJU   trackdone  trackdone    False   \n",
       "67915  spotify:track:5uWDenxq03AYLOq83WzLNo   trackdone  trackdone     True   \n",
       "\n",
       "       skipped  offline  offlineTimestamp  \n",
       "16649      NaN    False     1607097779179  \n",
       "52111      NaN    False     1640265905060  \n",
       "67915      NaN    False     1658995460950  "
      ]
     },
     "execution_count": 18,
     "metadata": {},
     "output_type": "execute_result"
    }
   ],
   "source": [
    "streamHistory.sample(3)"
   ]
  },
  {
   "cell_type": "code",
   "execution_count": 19,
   "id": "e1b70acb",
   "metadata": {},
   "outputs": [
    {
     "data": {
      "text/plain": [
       "[Text(0.5, 0, 'Unique Streams'),\n",
       " Text(0, 0.5, 'Count'),\n",
       " Text(0.5, 1.0, 'Song Popularity Historgram')]"
      ]
     },
     "execution_count": 19,
     "metadata": {},
     "output_type": "execute_result"
    },
    {
     "data": {
      "image/png": "[encoded data removed]",
      "text/plain": [
       "<Figure size 3000x1000 with 1 Axes>"
      ]
     },
     "metadata": {},
     "output_type": "display_data"
    }
   ],
   "source": [
    "ser = streamHistory[['trackName', 'trackUri', 'reasonEnd']].value_counts()\n",
    "# ser\n",
    "# ser.where(ser == 23).dropna()\n",
    "n = 9\n",
    "ax = ser.hist(bins=102-n, figsize=(30, 10), range=(8, 102-n))\n",
    "ax.xaxis.set_ticks(np.arange(8, 102-n, 5))\n",
    "ax.set(xlabel='Unique Streams', ylabel='Count', title='Song Popularity Historgram')\n"
   ]
  },
  {
   "cell_type": "code",
   "execution_count": 20,
   "id": "aaf1982a",
   "metadata": {},
   "outputs": [
    {
     "data": {
      "text/html": [
       "<div>\n",
       "<style scoped>\n",
       "    .dataframe tbody tr th:only-of-type {\n",
       "        vertical-align: middle;\n",
       "    }\n",
       "\n",
       "    .dataframe tbody tr th {\n",
       "        vertical-align: top;\n",
       "    }\n",
       "\n",
       "    .dataframe thead th {\n",
       "        text-align: right;\n",
       "    }\n",
       "</style>\n",
       "<table border=\"1\" class=\"dataframe\">\n",
       "  <thead>\n",
       "    <tr style=\"text-align: right;\">\n",
       "      <th></th>\n",
       "      <th>timeStamp</th>\n",
       "      <th>msPlayed</th>\n",
       "      <th>trackName</th>\n",
       "      <th>artistName</th>\n",
       "      <th>trackUri</th>\n",
       "      <th>reasonStart</th>\n",
       "      <th>reasonEnd</th>\n",
       "      <th>shuffle</th>\n",
       "      <th>skipped</th>\n",
       "      <th>offline</th>\n",
       "      <th>offlineTimestamp</th>\n",
       "    </tr>\n",
       "  </thead>\n",
       "  <tbody>\n",
       "    <tr>\n",
       "      <th>912</th>\n",
       "      <td>2019-05-13 18:53:15+00:00</td>\n",
       "      <td>164576</td>\n",
       "      <td>Just Wanna Be With You</td>\n",
       "      <td>High School Musical Cast</td>\n",
       "      <td>spotify:track:0tPIrbTWGm3vZiBmJSlzID</td>\n",
       "      <td>fwdbtn</td>\n",
       "      <td>trackdone</td>\n",
       "      <td>False</td>\n",
       "      <td>NaN</td>\n",
       "      <td>False</td>\n",
       "      <td>1557773429711</td>\n",
       "    </tr>\n",
       "    <tr>\n",
       "      <th>1271</th>\n",
       "      <td>2019-06-01 09:46:50+00:00</td>\n",
       "      <td>158186</td>\n",
       "      <td>Just Wanna Be With You</td>\n",
       "      <td>High School Musical Cast</td>\n",
       "      <td>spotify:track:0tPIrbTWGm3vZiBmJSlzID</td>\n",
       "      <td>trackdone</td>\n",
       "      <td>trackdone</td>\n",
       "      <td>True</td>\n",
       "      <td>NaN</td>\n",
       "      <td>False</td>\n",
       "      <td>1559382250050</td>\n",
       "    </tr>\n",
       "    <tr>\n",
       "      <th>1323</th>\n",
       "      <td>2019-06-06 06:17:08+00:00</td>\n",
       "      <td>158129</td>\n",
       "      <td>Just Wanna Be With You</td>\n",
       "      <td>High School Musical Cast</td>\n",
       "      <td>spotify:track:0tPIrbTWGm3vZiBmJSlzID</td>\n",
       "      <td>trackdone</td>\n",
       "      <td>trackdone</td>\n",
       "      <td>True</td>\n",
       "      <td>NaN</td>\n",
       "      <td>False</td>\n",
       "      <td>1559801372365</td>\n",
       "    </tr>\n",
       "    <tr>\n",
       "      <th>1531</th>\n",
       "      <td>2019-06-08 21:37:26+00:00</td>\n",
       "      <td>158129</td>\n",
       "      <td>Just Wanna Be With You</td>\n",
       "      <td>High School Musical Cast</td>\n",
       "      <td>spotify:track:0tPIrbTWGm3vZiBmJSlzID</td>\n",
       "      <td>trackdone</td>\n",
       "      <td>trackdone</td>\n",
       "      <td>True</td>\n",
       "      <td>NaN</td>\n",
       "      <td>False</td>\n",
       "      <td>1560029687599</td>\n",
       "    </tr>\n",
       "    <tr>\n",
       "      <th>1591</th>\n",
       "      <td>2019-06-14 10:24:54+00:00</td>\n",
       "      <td>158129</td>\n",
       "      <td>Just Wanna Be With You</td>\n",
       "      <td>High School Musical Cast</td>\n",
       "      <td>spotify:track:0tPIrbTWGm3vZiBmJSlzID</td>\n",
       "      <td>trackdone</td>\n",
       "      <td>trackdone</td>\n",
       "      <td>True</td>\n",
       "      <td>NaN</td>\n",
       "      <td>False</td>\n",
       "      <td>1560507736443</td>\n",
       "    </tr>\n",
       "    <tr>\n",
       "      <th>...</th>\n",
       "      <td>...</td>\n",
       "      <td>...</td>\n",
       "      <td>...</td>\n",
       "      <td>...</td>\n",
       "      <td>...</td>\n",
       "      <td>...</td>\n",
       "      <td>...</td>\n",
       "      <td>...</td>\n",
       "      <td>...</td>\n",
       "      <td>...</td>\n",
       "      <td>...</td>\n",
       "    </tr>\n",
       "    <tr>\n",
       "      <th>45139</th>\n",
       "      <td>2020-10-20 22:11:29+00:00</td>\n",
       "      <td>158175</td>\n",
       "      <td>Just Wanna Be With You</td>\n",
       "      <td>High School Musical Cast</td>\n",
       "      <td>spotify:track:0tPIrbTWGm3vZiBmJSlzID</td>\n",
       "      <td>fwdbtn</td>\n",
       "      <td>trackdone</td>\n",
       "      <td>True</td>\n",
       "      <td>NaN</td>\n",
       "      <td>False</td>\n",
       "      <td>1603231729990</td>\n",
       "    </tr>\n",
       "    <tr>\n",
       "      <th>45160</th>\n",
       "      <td>2020-10-21 22:56:48+00:00</td>\n",
       "      <td>158175</td>\n",
       "      <td>Just Wanna Be With You</td>\n",
       "      <td>High School Musical Cast</td>\n",
       "      <td>spotify:track:0tPIrbTWGm3vZiBmJSlzID</td>\n",
       "      <td>trackdone</td>\n",
       "      <td>trackdone</td>\n",
       "      <td>True</td>\n",
       "      <td>NaN</td>\n",
       "      <td>False</td>\n",
       "      <td>1603320847816</td>\n",
       "    </tr>\n",
       "    <tr>\n",
       "      <th>45517</th>\n",
       "      <td>2020-10-27 20:08:33+00:00</td>\n",
       "      <td>36180</td>\n",
       "      <td>Just Wanna Be With You</td>\n",
       "      <td>High School Musical Cast</td>\n",
       "      <td>spotify:track:0tPIrbTWGm3vZiBmJSlzID</td>\n",
       "      <td>remote</td>\n",
       "      <td>trackdone</td>\n",
       "      <td>True</td>\n",
       "      <td>NaN</td>\n",
       "      <td>False</td>\n",
       "      <td>1603829246534</td>\n",
       "    </tr>\n",
       "    <tr>\n",
       "      <th>45534</th>\n",
       "      <td>2020-10-27 21:51:51+00:00</td>\n",
       "      <td>36169</td>\n",
       "      <td>Just Wanna Be With You</td>\n",
       "      <td>High School Musical Cast</td>\n",
       "      <td>spotify:track:0tPIrbTWGm3vZiBmJSlzID</td>\n",
       "      <td>appload</td>\n",
       "      <td>trackdone</td>\n",
       "      <td>True</td>\n",
       "      <td>NaN</td>\n",
       "      <td>False</td>\n",
       "      <td>1603835466288</td>\n",
       "    </tr>\n",
       "    <tr>\n",
       "      <th>76565</th>\n",
       "      <td>2023-05-20 18:29:52+00:00</td>\n",
       "      <td>158186</td>\n",
       "      <td>Just Wanna Be With You</td>\n",
       "      <td>High School Musical Cast</td>\n",
       "      <td>spotify:track:0tPIrbTWGm3vZiBmJSlzID</td>\n",
       "      <td>trackdone</td>\n",
       "      <td>trackdone</td>\n",
       "      <td>False</td>\n",
       "      <td>0.0</td>\n",
       "      <td>False</td>\n",
       "      <td>1684607233</td>\n",
       "    </tr>\n",
       "  </tbody>\n",
       "</table>\n",
       "<p>66 rows × 11 columns</p>\n",
       "</div>"
      ],
      "text/plain": [
       "                      timeStamp  msPlayed               trackName   \n",
       "912   2019-05-13 18:53:15+00:00    164576  Just Wanna Be With You  \\\n",
       "1271  2019-06-01 09:46:50+00:00    158186  Just Wanna Be With You   \n",
       "1323  2019-06-06 06:17:08+00:00    158129  Just Wanna Be With You   \n",
       "1531  2019-06-08 21:37:26+00:00    158129  Just Wanna Be With You   \n",
       "1591  2019-06-14 10:24:54+00:00    158129  Just Wanna Be With You   \n",
       "...                         ...       ...                     ...   \n",
       "45139 2020-10-20 22:11:29+00:00    158175  Just Wanna Be With You   \n",
       "45160 2020-10-21 22:56:48+00:00    158175  Just Wanna Be With You   \n",
       "45517 2020-10-27 20:08:33+00:00     36180  Just Wanna Be With You   \n",
       "45534 2020-10-27 21:51:51+00:00     36169  Just Wanna Be With You   \n",
       "76565 2023-05-20 18:29:52+00:00    158186  Just Wanna Be With You   \n",
       "\n",
       "                     artistName                              trackUri   \n",
       "912    High School Musical Cast  spotify:track:0tPIrbTWGm3vZiBmJSlzID  \\\n",
       "1271   High School Musical Cast  spotify:track:0tPIrbTWGm3vZiBmJSlzID   \n",
       "1323   High School Musical Cast  spotify:track:0tPIrbTWGm3vZiBmJSlzID   \n",
       "1531   High School Musical Cast  spotify:track:0tPIrbTWGm3vZiBmJSlzID   \n",
       "1591   High School Musical Cast  spotify:track:0tPIrbTWGm3vZiBmJSlzID   \n",
       "...                         ...                                   ...   \n",
       "45139  High School Musical Cast  spotify:track:0tPIrbTWGm3vZiBmJSlzID   \n",
       "45160  High School Musical Cast  spotify:track:0tPIrbTWGm3vZiBmJSlzID   \n",
       "45517  High School Musical Cast  spotify:track:0tPIrbTWGm3vZiBmJSlzID   \n",
       "45534  High School Musical Cast  spotify:track:0tPIrbTWGm3vZiBmJSlzID   \n",
       "76565  High School Musical Cast  spotify:track:0tPIrbTWGm3vZiBmJSlzID   \n",
       "\n",
       "      reasonStart  reasonEnd  shuffle  skipped  offline  offlineTimestamp  \n",
       "912        fwdbtn  trackdone    False      NaN    False     1557773429711  \n",
       "1271    trackdone  trackdone     True      NaN    False     1559382250050  \n",
       "1323    trackdone  trackdone     True      NaN    False     1559801372365  \n",
       "1531    trackdone  trackdone     True      NaN    False     1560029687599  \n",
       "1591    trackdone  trackdone     True      NaN    False     1560507736443  \n",
       "...           ...        ...      ...      ...      ...               ...  \n",
       "45139      fwdbtn  trackdone     True      NaN    False     1603231729990  \n",
       "45160   trackdone  trackdone     True      NaN    False     1603320847816  \n",
       "45517      remote  trackdone     True      NaN    False     1603829246534  \n",
       "45534     appload  trackdone     True      NaN    False     1603835466288  \n",
       "76565   trackdone  trackdone    False      0.0    False        1684607233  \n",
       "\n",
       "[66 rows x 11 columns]"
      ]
     },
     "execution_count": 20,
     "metadata": {},
     "output_type": "execute_result"
    }
   ],
   "source": [
    "streamHistory.loc[(streamHistory.trackUri == 'spotify:track:0tPIrbTWGm3vZiBmJSlzID') & (streamHistory.reasonEnd == 'trackdone')].sort_index()"
   ]
  },
  {
   "cell_type": "markdown",
   "id": "35516d75",
   "metadata": {},
   "source": [
    "## Isolating Unique Streams"
   ]
  },
  {
   "cell_type": "code",
   "execution_count": null,
   "id": "c5a75080",
   "metadata": {},
   "outputs": [],
   "source": []
  },
  {
   "cell_type": "code",
   "execution_count": 21,
   "id": "9b00e16f",
   "metadata": {},
   "outputs": [
    {
     "ename": "NameError",
     "evalue": "name 'df' is not defined",
     "output_type": "error",
     "traceback": [
      "\u001b[1;31m---------------------------------------------------------------------------\u001b[0m",
      "\u001b[1;31mNameError\u001b[0m                                 Traceback (most recent call last)",
      "Cell \u001b[1;32mIn[21], line 1\u001b[0m\n\u001b[1;32m----> 1\u001b[0m \u001b[43mdf\u001b[49m\u001b[38;5;241m.\u001b[39mdrop_duplicates(subset\u001b[38;5;241m=\u001b[39m\u001b[38;5;124m'\u001b[39m\u001b[38;5;124mspotify_track_uri\u001b[39m\u001b[38;5;124m'\u001b[39m)\n",
      "\u001b[1;31mNameError\u001b[0m: name 'df' is not defined"
     ]
    }
   ],
   "source": [
    "df.drop_duplicates(subset='spotify_track_uri')"
   ]
  },
  {
   "cell_type": "code",
   "execution_count": null,
   "id": "115263cc",
   "metadata": {
    "tags": []
   },
   "outputs": [],
   "source": [
    "2+2"
   ]
  }
 ],
 "metadata": {
  "kernelspec": {
   "display_name": "Python 3 (ipykernel)",
   "language": "python",
   "name": "python3"
  },
  "language_info": {
   "codemirror_mode": {
    "name": "ipython",
    "version": 3
   },
   "file_extension": ".py",
   "mimetype": "text/x-python",
   "name": "python",
   "nbconvert_exporter": "python",
   "pygments_lexer": "ipython3",
   "version": "3.8.1"
  }
 },
 "nbformat": 4,
 "nbformat_minor": 5
}
